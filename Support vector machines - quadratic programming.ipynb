{
 "cells": [
  {
   "cell_type": "markdown",
   "id": "8997fd63-401a-4e72-97d3-3234e1b9f9fa",
   "metadata": {},
   "source": [
    "## Support vector machines - Quadratic programming\n",
    "\n",
    "In this project we will learn to fit a Support Vector Machine (SVM) model applying quadratic programming methods, this will require to understand the model and know very well the structure of it in order to get a proper optimization model. For purposes of this code the model will be solved using Gurobi with python, you can use other kind of solvers and optimization packages or frameworks that will work in the same way."
   ]
  },
  {
   "cell_type": "markdown",
   "id": "8b959e6a-cbda-4431-8d09-e8c4fdd39036",
   "metadata": {},
   "source": [
    "### Quadratic programming\n",
    "\n",
    "First or all we will review what is Quadratic Programming (QP), this in case you are not used to this concept or technique. QP is a process of solving mathematical optimization problems that involves quadratic functions as the objective of the problem, along with linear constraints. This kind of problems are the type of nonlinear programming methods and are a branch of mathematic programs.\n",
    "\n",
    "The general form of a quadratic programming problem is determined as follows,\n",
    "\n",
    "\\begin{equation}\n",
    "\\text{max} f = \\sum_{j=1}^{n} P_j x_j + \\sum_{j=1}^{n} \\sum_{k=1}^{n} d_{j,k} x_j x_k\n",
    "\\end{equation}\n",
    "\n",
    "\\begin{equation}\n",
    "\\text{subject to:} \\sum_{j =1}^{n} a_{i,j}x_j - b_j \\leq 0, \\ \\ x_j \\leq 0, \\ \\ i,j \\in \\{1,2,...,n \\}\n",
    "\\end{equation}\n",
    "\n",
    "where the quantity $ \\sum_{j=1}^{n} \\sum_{k=1}^{n} d_{j,k} x_j x_k $ denotes the quadratic form of the general programming probem.\n"
   ]
  },
  {
   "cell_type": "markdown",
   "id": "5e2d9a41-4b1b-41d0-b7c0-ebd883d6c409",
   "metadata": {},
   "source": [
    "## Support vector machines\n",
    "\n",
    "Now that we have some understanding on QP and the general model we introduce the SVM model in its general form, first of all consider a data set of $N$ pairs in the form $(\\text{x}_i, y_i)$, where $\\text{x}_i \\in \\mathbb{R}^{p}$ and $y_i \\in \\{-1,1\\}$. Without going deep into the assumptions and the idea of the model, the general optimization problem that solves the SVM model is the following one,\n",
    "\n",
    "\\begin{equation}\n",
    "\\min\\limits_{\\beta, \\beta_0} \\frac{1}{2} || \\beta || ^2 + C \\sum_{i=1}^{N} \\epsilon_i\n",
    "\\end{equation}\n",
    "\n",
    "\\begin{equation}\n",
    "\\text{subject to:} \\epsilon_i \\geq 0, \\ \\ y_i (\\text{x}_i^T \\beta + \\beta_0) \\geq 1 - \\epsilon_i, \\ \\ \\forall i \\in \\{ 1,...,N \\}\n",
    "\\end{equation}\n",
    "\n",
    "where $C$ corresponds to a cost parameter that determines a trade-off between increasing the margin of the hyperplane generated in the model and labeling correctly each $y_i$ in the training stage. Moreover $||\\beta||$ corresponds to the euclidean norm with the following form,\n",
    "\n",
    "\\begin{equation}\n",
    "|| \\beta ||^2 = (\\sqrt{\\beta_i^2 + ... + \\beta_p^2})^2\n",
    "\\end{equation}\n",
    "\n",
    "With this we can build our model and solve the model through a solver, for the purpose of this project we will solve it by using python and Gurobi, but you can try with other kind of approaches and solvers.\n",
    "\n",
    "The first thing we will do is import the library with the solver for gurobipy and other packages useful for working with the problem"
   ]
  },
  {
   "cell_type": "code",
   "execution_count": 68,
   "id": "cd7e111c-d3f9-477b-b336-7c64e6e6bc8a",
   "metadata": {},
   "outputs": [],
   "source": [
    "from sklearn import datasets # Allow for simulate data sets\n",
    "import numpy as np # Matrix manipulation\n",
    "from sklearn.model_selection import train_test_split # Separar en train y test\n",
    "import pandas as pd\n",
    "from gurobipy import *"
   ]
  },
  {
   "cell_type": "code",
   "execution_count": 69,
   "id": "38f963a6-1361-413f-9677-0b9e8790bf3d",
   "metadata": {},
   "outputs": [],
   "source": [
    "# Simulation of a dataframe\n",
    "X, y = datasets.make_blobs(\n",
    "\n",
    "        n_samples = 100, # Number of samples\n",
    "        n_features = 3, # Features\n",
    "        centers = 2,\n",
    "        cluster_std = 1\n",
    "    )\n",
    "\n",
    "y = np.where(y == 0, -1, 1)\n",
    "\n",
    "X_train, X_test, y_train, y_test = train_test_split(X, y, test_size=0.3)"
   ]
  },
  {
   "cell_type": "markdown",
   "id": "b9d88f3b-1f3b-4c92-8f20-01cd39f0e59d",
   "metadata": {},
   "source": [
    "Next step is creating the model"
   ]
  },
  {
   "cell_type": "code",
   "execution_count": 70,
   "id": "ec5095d2-b6f1-4203-a5ef-04b7b733ef80",
   "metadata": {},
   "outputs": [],
   "source": [
    "quadratic_model = Model('quadratic')"
   ]
  },
  {
   "cell_type": "markdown",
   "id": "b5970767-0248-4e8a-bbc0-d46c174c33c5",
   "metadata": {},
   "source": [
    "After creating the model we need to define the variables to be optimized in the model, these variables are,\n",
    "\n",
    "$$ u = \\beta $$\n",
    "$$ c = \\epsilon_i $$\n",
    "$$ bi = \\beta_0$$"
   ]
  },
  {
   "cell_type": "code",
   "execution_count": 71,
   "id": "6db4542f-a355-47ec-89b9-4f1d1d12c122",
   "metadata": {},
   "outputs": [],
   "source": [
    "u = {}\n",
    "c = {}\n",
    "\n",
    "for i in range(X_train.shape[1]):\n",
    "    u[i] = quadratic_model.addVar(vtype = GRB.CONTINUOUS, name = 'u' + str(i))\n",
    "\n",
    "for i in range(len(X_train)):\n",
    "    c[i] = quadratic_model.addVar(vtype = GRB.CONTINUOUS, name = 'c' + str(i))\n",
    "\n",
    "bi = quadratic_model.addVar(vtype = GRB.CONTINUOUS, name = 'bi')\n",
    "\n",
    "quadratic_model.update()"
   ]
  },
  {
   "cell_type": "markdown",
   "id": "7fff857d-5aea-469f-8933-e9603f62a65f",
   "metadata": {},
   "source": [
    "Now we are gonna create the objective function and add it to the model"
   ]
  },
  {
   "cell_type": "code",
   "execution_count": 72,
   "id": "f04b8022-e2e8-4ed0-970b-31c169b805d8",
   "metadata": {},
   "outputs": [],
   "source": [
    "obj_fn = 0.5 * (sum(u[i]**2 for i in range(X_train.shape[1]))) + 1.0 * (sum(c[i] for i in range(len(X_train))))\n",
    "\n",
    "quadratic_model.setObjective(obj_fn, GRB.MINIMIZE)\n",
    "quadratic_model.update()"
   ]
  },
  {
   "cell_type": "markdown",
   "id": "c6f175b4-1749-4c61-8a76-f1d383c5fec7",
   "metadata": {},
   "source": [
    "Next step is to add constraints of the model"
   ]
  },
  {
   "cell_type": "code",
   "execution_count": 73,
   "id": "11b84a58-8948-46df-9993-14129385c7ec",
   "metadata": {},
   "outputs": [],
   "source": [
    "for i in range(len(X_train)):\n",
    "    quadratic_model.addConstr(y_train[i] * (sum(u[j] * X_train[i][j] for j in range(X_train.shape[1])) - bi) - 1 + c[i] >= 0)\n",
    "    quadratic_model.addConstr(c[i] >= 0)"
   ]
  },
  {
   "cell_type": "markdown",
   "id": "3fa42eb3-9a93-49bf-b964-1b77fc28b987",
   "metadata": {},
   "source": [
    "Model has the objective function and constraints defined, now we can solve the model"
   ]
  },
  {
   "cell_type": "code",
   "execution_count": 74,
   "id": "4043a57d-235b-4a21-8b11-c331de8a880f",
   "metadata": {},
   "outputs": [
    {
     "name": "stdout",
     "output_type": "stream",
     "text": [
      "Gurobi Optimizer version 11.0.0 build v11.0.0rc2 (win64 - Windows 11.0 (22621.2))\n",
      "\n",
      "CPU model: 12th Gen Intel(R) Core(TM) i7-12700H, instruction set [SSE2|AVX|AVX2]\n",
      "Thread count: 14 physical cores, 20 logical processors, using up to 20 threads\n",
      "\n",
      "Optimize a model with 140 rows, 74 columns and 420 nonzeros\n",
      "Model fingerprint: 0x39c234f7\n",
      "Model has 3 quadratic objective terms\n",
      "Coefficient statistics:\n",
      "  Matrix range     [3e-03, 1e+01]\n",
      "  Objective range  [1e+00, 1e+00]\n",
      "  QObjective range [1e+00, 1e+00]\n",
      "  Bounds range     [0e+00, 0e+00]\n",
      "  RHS range        [1e+00, 1e+00]\n",
      "Presolve removed 70 rows and 0 columns\n",
      "Presolve time: 0.01s\n",
      "Presolved: 70 rows, 74 columns, 350 nonzeros\n",
      "Presolved model has 3 quadratic objective terms\n",
      "Ordering time: 0.00s\n",
      "\n",
      "Barrier statistics:\n",
      " AA' NZ     : 2.415e+03\n",
      " Factor NZ  : 2.485e+03\n",
      " Factor Ops : 1.168e+05 (less than 1 second per iteration)\n",
      " Threads    : 1\n",
      "\n",
      "                  Objective                Residual\n",
      "Iter       Primal          Dual         Primal    Dual     Compl     Time\n",
      "   0   2.50012088e+06 -1.50011955e+06  0.00e+00 0.00e+00  1.00e+06     0s\n",
      "   1   1.07711248e+06 -1.27395775e+05  0.00e+00 5.47e+01  6.26e+04     0s\n",
      "   2   7.65012221e+05 -3.93914967e+04  0.00e+00 0.00e+00  5.59e+03     0s\n",
      "   3   1.73318119e+04 -1.35141617e+04  0.00e+00 0.00e+00  2.14e+02     0s\n",
      "   4   3.19162811e+03 -2.06833777e+03  0.00e+00 0.00e+00  3.65e+01     0s\n",
      "   5   3.36696532e+02 -3.05133239e+02  0.00e+00 1.24e-14  4.46e+00     0s\n",
      "   6   4.99587900e+01 -4.36468791e+01  0.00e+00 3.55e-15  6.50e-01     0s\n",
      "   7   7.18733936e+00 -6.14184548e+00  0.00e+00 3.55e-15  9.26e-02     0s\n",
      "   8   1.07756246e+00 -8.30409893e-01  0.00e+00 3.55e-15  1.32e-02     0s\n",
      "   9   1.74817938e-01 -9.70216303e-02  0.00e+00 3.55e-15  1.89e-03     0s\n",
      "  10   3.50062399e-02 -2.35288437e-03  0.00e+00 3.55e-15  2.59e-04     0s\n",
      "  11   2.49248056e-02  8.58113159e-03  0.00e+00 1.07e-14  1.13e-04     0s\n",
      "  12   1.82287746e-02  1.45899581e-02  0.00e+00 3.55e-15  2.53e-05     0s\n",
      "  13   1.65317954e-02  1.60935012e-02  0.00e+00 3.55e-15  3.04e-06     0s\n",
      "  14   1.63150931e-02  1.63146237e-02  0.00e+00 3.55e-15  3.26e-09     0s\n",
      "  15   1.63148729e-02  1.63148725e-02  0.00e+00 5.33e-15  3.26e-12     0s\n",
      "\n",
      "Barrier solved model in 15 iterations and 0.02 seconds (0.00 work units)\n",
      "Optimal objective 1.63148729e-02\n",
      "\n"
     ]
    }
   ],
   "source": [
    "quadratic_model.setParam('OutputFlag', True)\n",
    "quadratic_model.optimize()"
   ]
  },
  {
   "cell_type": "markdown",
   "id": "fdd91bba-46a3-472a-ab7c-8ce8fbe34983",
   "metadata": {},
   "source": [
    "We create a function that search for the variables we need related to $\\beta_o$ and $\\beta$"
   ]
  },
  {
   "cell_type": "code",
   "execution_count": 75,
   "id": "9c9dfe28-8eaa-4f47-bcd0-c7fb369ac367",
   "metadata": {},
   "outputs": [],
   "source": [
    "def find_letter(letter, lst):\n",
    "    return any(letter in word for word in lst)"
   ]
  },
  {
   "cell_type": "code",
   "execution_count": 76,
   "id": "7dbde2f7-203c-4ae5-92d8-68cbc30efd48",
   "metadata": {},
   "outputs": [
    {
     "name": "stdout",
     "output_type": "stream",
     "text": [
      "u0: 2.97994e-11\n",
      "u1: 0.111919\n",
      "u2: 0.141788\n",
      "bi: 0.120362\n"
     ]
    }
   ],
   "source": [
    "for v in quadratic_model.getVars():\n",
    "    if find_letter('c', v.varName) == False:\n",
    "        print('%s: %g' % (v.varName, v.x))"
   ]
  },
  {
   "cell_type": "code",
   "execution_count": 77,
   "id": "5c94969f-14a0-47f3-be7b-bd72cf8adf82",
   "metadata": {
    "scrolled": true
   },
   "outputs": [
    {
     "data": {
      "text/html": [
       "<div>\n",
       "<style scoped>\n",
       "    .dataframe tbody tr th:only-of-type {\n",
       "        vertical-align: middle;\n",
       "    }\n",
       "\n",
       "    .dataframe tbody tr th {\n",
       "        vertical-align: top;\n",
       "    }\n",
       "\n",
       "    .dataframe thead th {\n",
       "        text-align: right;\n",
       "    }\n",
       "</style>\n",
       "<table border=\"1\" class=\"dataframe\">\n",
       "  <thead>\n",
       "    <tr style=\"text-align: right;\">\n",
       "      <th></th>\n",
       "      <th>Actual</th>\n",
       "      <th>Gurobi</th>\n",
       "    </tr>\n",
       "  </thead>\n",
       "  <tbody>\n",
       "    <tr>\n",
       "      <th>0</th>\n",
       "      <td>-1</td>\n",
       "      <td>-1</td>\n",
       "    </tr>\n",
       "    <tr>\n",
       "      <th>1</th>\n",
       "      <td>-1</td>\n",
       "      <td>-1</td>\n",
       "    </tr>\n",
       "    <tr>\n",
       "      <th>2</th>\n",
       "      <td>-1</td>\n",
       "      <td>-1</td>\n",
       "    </tr>\n",
       "    <tr>\n",
       "      <th>3</th>\n",
       "      <td>-1</td>\n",
       "      <td>-1</td>\n",
       "    </tr>\n",
       "    <tr>\n",
       "      <th>4</th>\n",
       "      <td>1</td>\n",
       "      <td>1</td>\n",
       "    </tr>\n",
       "    <tr>\n",
       "      <th>5</th>\n",
       "      <td>-1</td>\n",
       "      <td>-1</td>\n",
       "    </tr>\n",
       "    <tr>\n",
       "      <th>6</th>\n",
       "      <td>1</td>\n",
       "      <td>1</td>\n",
       "    </tr>\n",
       "    <tr>\n",
       "      <th>7</th>\n",
       "      <td>1</td>\n",
       "      <td>1</td>\n",
       "    </tr>\n",
       "    <tr>\n",
       "      <th>8</th>\n",
       "      <td>1</td>\n",
       "      <td>1</td>\n",
       "    </tr>\n",
       "    <tr>\n",
       "      <th>9</th>\n",
       "      <td>1</td>\n",
       "      <td>1</td>\n",
       "    </tr>\n",
       "    <tr>\n",
       "      <th>10</th>\n",
       "      <td>1</td>\n",
       "      <td>1</td>\n",
       "    </tr>\n",
       "    <tr>\n",
       "      <th>11</th>\n",
       "      <td>-1</td>\n",
       "      <td>-1</td>\n",
       "    </tr>\n",
       "    <tr>\n",
       "      <th>12</th>\n",
       "      <td>-1</td>\n",
       "      <td>-1</td>\n",
       "    </tr>\n",
       "    <tr>\n",
       "      <th>13</th>\n",
       "      <td>-1</td>\n",
       "      <td>-1</td>\n",
       "    </tr>\n",
       "    <tr>\n",
       "      <th>14</th>\n",
       "      <td>1</td>\n",
       "      <td>1</td>\n",
       "    </tr>\n",
       "    <tr>\n",
       "      <th>15</th>\n",
       "      <td>-1</td>\n",
       "      <td>-1</td>\n",
       "    </tr>\n",
       "    <tr>\n",
       "      <th>16</th>\n",
       "      <td>-1</td>\n",
       "      <td>-1</td>\n",
       "    </tr>\n",
       "    <tr>\n",
       "      <th>17</th>\n",
       "      <td>1</td>\n",
       "      <td>1</td>\n",
       "    </tr>\n",
       "    <tr>\n",
       "      <th>18</th>\n",
       "      <td>1</td>\n",
       "      <td>1</td>\n",
       "    </tr>\n",
       "    <tr>\n",
       "      <th>19</th>\n",
       "      <td>1</td>\n",
       "      <td>1</td>\n",
       "    </tr>\n",
       "    <tr>\n",
       "      <th>20</th>\n",
       "      <td>-1</td>\n",
       "      <td>-1</td>\n",
       "    </tr>\n",
       "    <tr>\n",
       "      <th>21</th>\n",
       "      <td>-1</td>\n",
       "      <td>-1</td>\n",
       "    </tr>\n",
       "    <tr>\n",
       "      <th>22</th>\n",
       "      <td>-1</td>\n",
       "      <td>-1</td>\n",
       "    </tr>\n",
       "    <tr>\n",
       "      <th>23</th>\n",
       "      <td>-1</td>\n",
       "      <td>-1</td>\n",
       "    </tr>\n",
       "    <tr>\n",
       "      <th>24</th>\n",
       "      <td>-1</td>\n",
       "      <td>-1</td>\n",
       "    </tr>\n",
       "    <tr>\n",
       "      <th>25</th>\n",
       "      <td>1</td>\n",
       "      <td>1</td>\n",
       "    </tr>\n",
       "    <tr>\n",
       "      <th>26</th>\n",
       "      <td>1</td>\n",
       "      <td>1</td>\n",
       "    </tr>\n",
       "    <tr>\n",
       "      <th>27</th>\n",
       "      <td>1</td>\n",
       "      <td>1</td>\n",
       "    </tr>\n",
       "    <tr>\n",
       "      <th>28</th>\n",
       "      <td>-1</td>\n",
       "      <td>-1</td>\n",
       "    </tr>\n",
       "    <tr>\n",
       "      <th>29</th>\n",
       "      <td>-1</td>\n",
       "      <td>-1</td>\n",
       "    </tr>\n",
       "  </tbody>\n",
       "</table>\n",
       "</div>"
      ],
      "text/plain": [
       "    Actual  Gurobi\n",
       "0       -1      -1\n",
       "1       -1      -1\n",
       "2       -1      -1\n",
       "3       -1      -1\n",
       "4        1       1\n",
       "5       -1      -1\n",
       "6        1       1\n",
       "7        1       1\n",
       "8        1       1\n",
       "9        1       1\n",
       "10       1       1\n",
       "11      -1      -1\n",
       "12      -1      -1\n",
       "13      -1      -1\n",
       "14       1       1\n",
       "15      -1      -1\n",
       "16      -1      -1\n",
       "17       1       1\n",
       "18       1       1\n",
       "19       1       1\n",
       "20      -1      -1\n",
       "21      -1      -1\n",
       "22      -1      -1\n",
       "23      -1      -1\n",
       "24      -1      -1\n",
       "25       1       1\n",
       "26       1       1\n",
       "27       1       1\n",
       "28      -1      -1\n",
       "29      -1      -1"
      ]
     },
     "execution_count": 77,
     "metadata": {},
     "output_type": "execute_result"
    }
   ],
   "source": [
    "predict_gurobi = []\n",
    "\n",
    "for i in range(len(X_test)):\n",
    "    predict_gurobi.append(sum(u[j].x*X_test[i][j] for j in range(X_train.shape[1])) - bi.x)\n",
    "\n",
    "predict_gurobi = np.sign(predict_gurobi)\n",
    "\n",
    "# Data frame con los tres resultados\n",
    "resultados = pd.DataFrame({'Actual': y_test, 'Gurobi': predict_gurobi})\n",
    "resultados['Gurobi'] = (resultados['Gurobi'].astype(int))\n",
    "resultados"
   ]
  },
  {
   "cell_type": "markdown",
   "id": "f4426e67-60f0-46c4-8755-38d622121c88",
   "metadata": {},
   "source": [
    "### Conclusions\n",
    "\n",
    "We have seen through this project that the SVM model corresponds to a quadratic programming problem that can be solved with any kind of nonlinear programming solvers such as GUROBI, GAMS, AMPL, and others. There is worth noting that the usage of such solvers is limited and this example is one with a small sample and few features, and extensions to the sample size and features is constrained to the licence of such programs and solvers, in case there is no possibility of using these solvers other approaches are applying heuristics that retrieve local optimal solutions to the problem and can be used as an approach for getting results"
   ]
  }
 ],
 "metadata": {
  "kernelspec": {
   "display_name": "Python 3 (ipykernel)",
   "language": "python",
   "name": "python3"
  },
  "language_info": {
   "codemirror_mode": {
    "name": "ipython",
    "version": 3
   },
   "file_extension": ".py",
   "mimetype": "text/x-python",
   "name": "python",
   "nbconvert_exporter": "python",
   "pygments_lexer": "ipython3",
   "version": "3.11.5"
  }
 },
 "nbformat": 4,
 "nbformat_minor": 5
}
